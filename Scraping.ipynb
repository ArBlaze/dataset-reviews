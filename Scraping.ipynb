{
 "cells": [
  {
   "cell_type": "markdown",
   "id": "e9465b92-45b8-4f18-b5bd-f203de5fb97e",
   "metadata": {},
   "source": [
    "# Amazon Web Scraping and Analysis\n",
    "\n",
    "Scraping Amazon product reviews, cleaning data"
   ]
  },
  {
   "cell_type": "markdown",
   "id": "f8083751-9f1a-42ef-8df7-79aa9722d388",
   "metadata": {},
   "source": [
    "### Importing necessary libraries"
   ]
  },
  {
   "cell_type": "code",
   "execution_count": 227,
   "id": "4124500e-b9df-4213-8870-c2a1d328a01a",
   "metadata": {},
   "outputs": [],
   "source": [
    "from bs4 import BeautifulSoup as bs\n",
    "import pandas as pd\n",
    "import numpy as np\n",
    "import requests\n",
    "import re\n",
    "import matplotlib.pyplot as plt\n",
    "import seaborn as sns\n"
   ]
  },
  {
   "cell_type": "markdown",
   "id": "90c1853d-5a20-4fa4-a708-ee0169302a47",
   "metadata": {},
   "source": [
    "#### Read the links in, then stripping off the \\n"
   ]
  },
  {
   "cell_type": "code",
   "execution_count": 228,
   "id": "c77da5b0-87cf-4413-b85c-e0ef4379f5cc",
   "metadata": {},
   "outputs": [],
   "source": [
    "links = []\n",
    "with open ('url.txt') as f:\n",
    "    lines = f.readlines()\n",
    "for line in lines:\n",
    "    links.append(line.rstrip())\n"
   ]
  },
  {
   "cell_type": "markdown",
   "id": "51a6b6dd-3ecf-4cc7-a982-ffe3fe3a1074",
   "metadata": {},
   "source": [
    "#### Defining Functions"
   ]
  },
  {
   "cell_type": "code",
   "execution_count": 239,
   "id": "6b3f2b1b-25a4-48d1-ad07-f31e3879d359",
   "metadata": {},
   "outputs": [],
   "source": [
    "def Requests(url):\n",
    "    headers = {'user-agent': 'Mozilla/5.0 (X11; Linux x86_64) AppleWebKit/537.36 (KHTML, like Gecko) Chrome/80.0.3987.163 Safari/537.36', 'referer': 'https://google.com'}\n",
    "    # Load webpage content\n",
    "    r = requests.get(url, headers=headers)\n",
    "    # Convert to a beautiful soup object\n",
    "    soup = bs(r.content, 'html.parser')\n",
    "    return soup\n",
    "\n",
    "def Master(links):\n",
    "    review_list = []\n",
    "    dic = {}\n",
    "    for link in links:\n",
    "        request = Requests(link)\n",
    "        for row in request.find_all(class_=\"a-section review aok-relative\"):\n",
    "            try:\n",
    "                dic['Rating'] = float(row.find(class_=\"a-icon-alt\").get_text()[:3])\n",
    "                dic['Review Title'] = row.find(class_=\"a-size-base a-link-normal review-title a-color-base review-title-content a-text-bold\").get_text().strip()\n",
    "                dic['Review Text'] = row.find(class_=\"a-size-base review-text review-text-content\").get_text().strip()\n",
    "                review_list.append(dic)\n",
    "                dic = {}\n",
    "            except Exception as e:\n",
    "                print (row)\n",
    "                print (e)\n",
    "    return(review_list)"
   ]
  },
  {
   "cell_type": "markdown",
   "id": "c0a2c92e-3400-49c5-a848-d15da5e0e7e2",
   "metadata": {},
   "source": [
    "#### Calling the function, storing it in variable"
   ]
  },
  {
   "cell_type": "code",
   "execution_count": 240,
   "id": "f40107ba-808c-4ecf-99fa-52b306238d89",
   "metadata": {
    "tags": []
   },
   "outputs": [],
   "source": [
    "master = Master(links)"
   ]
  },
  {
   "cell_type": "markdown",
   "id": "bd4ae519-ec27-4ab1-ac5a-a06158024695",
   "metadata": {},
   "source": [
    "#### Saving data as .json file"
   ]
  },
  {
   "cell_type": "code",
   "execution_count": 241,
   "id": "6dbb5b70-cd10-437d-851e-4f3bf0faefb8",
   "metadata": {},
   "outputs": [],
   "source": [
    "import json\n",
    "\n",
    "\n",
    "def save_data(title, data):\n",
    "    with open(title, 'w', encoding='utf-8') as f:\n",
    "        json.dump(data, f, ensure_ascii=False, indent=2)\n"
   ]
  },
  {
   "cell_type": "code",
   "execution_count": 242,
   "id": "8c60fa33-2ece-4052-9751-6b7f75319cbc",
   "metadata": {},
   "outputs": [],
   "source": [
    "def load_title(title):\n",
    "    with open(title, encoding='utf-8') as f:\n",
    "        json.load(f)\n"
   ]
  },
  {
   "cell_type": "code",
   "execution_count": 243,
   "id": "c78edfb8-3215-4157-92f4-d2c167bced8a",
   "metadata": {},
   "outputs": [],
   "source": [
    "save_data(\"./datasets/amazon-reviews.json\", master)\n"
   ]
  }
 ],
 "metadata": {
  "kernelspec": {
   "display_name": "Python 3",
   "language": "python",
   "name": "python3"
  },
  "language_info": {
   "codemirror_mode": {
    "name": "ipython",
    "version": 3
   },
   "file_extension": ".py",
   "mimetype": "text/x-python",
   "name": "python",
   "nbconvert_exporter": "python",
   "pygments_lexer": "ipython3",
   "version": "3.8.8"
  }
 },
 "nbformat": 4,
 "nbformat_minor": 5
}
